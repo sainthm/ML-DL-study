{
 "cells": [
  {
   "cell_type": "code",
   "execution_count": null,
   "metadata": {},
   "outputs": [],
   "source": [
    "import seaborn as sns\n",
    "data = sns.load_dataset('tips')\n",
    "\n",
    "# 선형 그래프, 연속된 변수에 대한 특정 값의 변화를 나타내는 데 적합한 그래프\n",
    "sns.lineplot(x = 'size', y = 'total_bill', data = data, hue='sex')\n",
    "\n",
    "# 산점도, 두 변수 간으 ㅣ전체적인 관계 및 그에 대한 분포를 표현하는 그래프\n",
    "sns.scatterplot(x = 'tip', y = 'total_bill', data = data, hue='sex')\n",
    "\n",
    "# 히스토그램, 도수분포표를 나타내는 그래프\n",
    "sns.histplot(data['size'])\n",
    "\n",
    "# 박스 플롯, 데이터의 대략적인 부포와 이상치 등을 간결하게 보여주는 그래프\n",
    "sns.boxplot(x = 'day', y = 'total_bill', data = data)\n",
    "\n",
    "# 데이터를 색상으로 표현하는 그래프, 다른 그래프들과 달리 여러 변수를 동시에 반영 가능\n",
    "sns.heatmap(data.corr())\n",
    "\n",
    "# 히스토그램과 달리 특정 구간이 아닌 특정 범주에 대한 그래프를 그리는 그래프\n",
    "sns.barplot(x = 'day', y = 'total_bill', data = data)"
   ]
  }
 ],
 "metadata": {
  "language_info": {
   "name": "python"
  },
  "orig_nbformat": 4
 },
 "nbformat": 4,
 "nbformat_minor": 2
}
