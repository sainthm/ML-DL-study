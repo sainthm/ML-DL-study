{
 "cells": [
  {
   "cell_type": "code",
   "execution_count": null,
   "metadata": {},
   "outputs": [],
   "source": [
    "import seaborn as sns\n",
    "data = sns.load_dataset('tips')\n",
    "\n",
    "sns.lineplot(x = 'size', y = 'total_bill', data = data, hue='sex')\n",
    "\n",
    "sns.scatterplot(x = 'tip', y = 'total_bill', data = data, hue='sex')\n",
    "\n",
    "sns.histplot(data['size'])\n",
    "\n",
    "sns.boxplot(x = 'day', y = 'total_bill', data = data)\n",
    "\n",
    "sns.heatmap(data.corr())\n",
    "\n",
    "sns.barplot(x = 'day', y = 'total_bill', data = data)"
   ]
  }
 ],
 "metadata": {
  "language_info": {
   "name": "python"
  },
  "orig_nbformat": 4
 },
 "nbformat": 4,
 "nbformat_minor": 2
}
